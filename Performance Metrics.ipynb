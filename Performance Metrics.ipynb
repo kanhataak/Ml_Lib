{
 "cells": [
  {
   "cell_type": "code",
   "execution_count": 1,
   "metadata": {},
   "outputs": [],
   "source": [
    "from sklearn import metrics"
   ]
  },
  {
   "cell_type": "code",
   "execution_count": 4,
   "metadata": {},
   "outputs": [],
   "source": [
    "c=\"Cat\"\n",
    "d='Dog'\n",
    "f='Fox'"
   ]
  },
  {
   "cell_type": "code",
   "execution_count": 6,
   "metadata": {},
   "outputs": [],
   "source": [
    "#True value \n",
    "y_true=[c,c,c,c,c,c,f,f,f,f,f,f,f,f,d,d,d,d,d,d,d,d]\n",
    "# Predicted values \n",
    "y_pred=[c,c,c,c,f,d,c,c,c,c,d,d,f,f,c,c,c,d,d,d,d,d]\n"
   ]
  },
  {
   "cell_type": "code",
   "execution_count": 8,
   "metadata": {},
   "outputs": [
    {
     "name": "stdout",
     "output_type": "stream",
     "text": [
      "[[4 1 1]\n",
      " [3 5 0]\n",
      " [4 2 2]]\n",
      "              precision    recall  f1-score   support\n",
      "\n",
      "         Cat      0.364     0.667     0.471         6\n",
      "         Dog      0.625     0.625     0.625         8\n",
      "         Fox      0.667     0.250     0.364         8\n",
      "\n",
      "    accuracy                          0.500        22\n",
      "   macro avg      0.552     0.514     0.486        22\n",
      "weighted avg      0.569     0.500     0.488        22\n",
      "\n"
     ]
    }
   ],
   "source": [
    "#  confusion matrix and precision and recall and other matrics\n",
    "print(metrics.confusion_matrix(y_true,y_pred))\n",
    "print(metrics.classification_report(y_true,y_pred, digits=3))"
   ]
  },
  {
   "cell_type": "code",
   "execution_count": null,
   "metadata": {},
   "outputs": [],
   "source": []
  }
 ],
 "metadata": {
  "kernelspec": {
   "display_name": "Python 3",
   "language": "python",
   "name": "python3"
  },
  "language_info": {
   "codemirror_mode": {
    "name": "ipython",
    "version": 3
   },
   "file_extension": ".py",
   "mimetype": "text/x-python",
   "name": "python",
   "nbconvert_exporter": "python",
   "pygments_lexer": "ipython3",
   "version": "3.7.4"
  }
 },
 "nbformat": 4,
 "nbformat_minor": 2
}
